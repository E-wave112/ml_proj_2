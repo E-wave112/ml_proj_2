%matplotlib inline

import timeit
start = timeit.default_timer()

#Your ops here

 
import sklearn
import seaborn as sns
import matplotlib.pyplot as plt
import numpy as np
import pandas as pd
from pandas import DataFrame
from sklearn import preprocessing, cross_validation, svm
from sklearn.model_selection import train_test_split
from sklearn.neighbors import KNeighborsClassifier
from sklearn.preprocessing import StandardScaler
dct = {"p":1,"np":0, "sci":50,"commerce":40,"arts":30,"we":10,"nwe":20,"Male":2,"Female":4,"ST":3,"Comm":6,"ot":9,"sscb":70,
       "hscb":80,"Mkhr":7,"MkFi":9}
df = pd.read_csv("placement.csv")
#salary dropped cause it is incomplete and in the world, most recruits will have to emploty before agreeing on something
df = df.drop(["salary"],axis=1)
df.fillna(-99990, inplace =True)
print(df["specialisation"].unique())
print(df["degree_t"].unique())
df.replace("Placed", dct["p"], inplace=True)
df.replace("Not Placed", dct["np"], inplace=True)
df.replace("Science", dct["sci"], inplace=True)
df.replace("Commerce", dct["commerce"], inplace=True)
df.replace("Arts", dct["arts"], inplace=True)
df.replace("Yes", dct["we"], inplace=True)
df.replace("No", dct["nwe"], inplace=True)
df.replace("M", dct["Male"], inplace=True)
df.replace("F", dct["Female"], inplace=True)
df.replace("Sci&Tech", dct["ST"],inplace=True)
df.replace("Comm&Mgmt", dct["Comm"],inplace=True)
df.replace("Others", dct["ot"], inplace=True)
df.replace("Central", dct["sscb"], inplace=True)
df.replace("Mkt&HR", dct["Mkhr"], inplace=True)
df.replace("Mkt&Fin", dct["MkFi"], inplace=True)
print(df.shape)
print(df.info())
print(df.isnull().sum())
print(df.describe())
corr = df.corr()
print(corr)
sns.heatmap(corr)
print("inferences drawn:")
print("\nthe ssce score, higher school score and secondary school score affects how campus graduates will be recruited for work")
print("order features also affects but the avarage correlation is zero, but they will still be included as well")
#starting out a classification  algorithm
X = df.drop(["status"],axis =1)
Y = df["status"]
X = preprocessing.scale(X)
stdscale = StandardScaler()
X = stdscale.fit_transform(X)
X_train,X_test,Y_train,Y_test = sklearn.cross_validation.train_test_split(X,Y, test_size=0.3, random_state=1)
print(X_train.shape)
print(Y_train.shape)
print(X_test.shape)
print(Y_test.shape)

knn = KNeighborsClassifier()
knn.fit(X_train, Y_train)
y_new = np.array([[len(df)+1,0,0,0,0,0,0,0,0,0,0,0,0]])
y_new = y_new.reshape(len(y_new),-1)
print(len(y_new))
prediction = knn.predict(y_new)
print(prediction)

accuracy = knn.score(X_test, Y_test)
print(accuracy)

end = timeit.default_timer()
print(end-start)
