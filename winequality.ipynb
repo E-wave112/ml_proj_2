import sklearn
import seaborn as sns
import matplotlib.pyplot as plt
import numpy as np
import pandas as pd
from sklearn import preprocessing, cross_validation, svm
from sklearn.model_selection import train_test_split


df = pd.read_csv("winequality-red.csv", sep=";")
print(df.head())
print(df.describe())
corr = df.corr()
sns.heatmap(corr)
print(df.shape)
X = df.drop(["quality"], axis=1)

X = preprocessing.scale(X)
print(X.std(axis=0))
Y = df["quality"]

X_train,X_test, Y_train,Y_test = train_test_split(X,Y,random_state=123, test_size=0.3,stratify=Y)
print(X_train.shape)
print(X_test.shape)
print(Y_train.shape)
print(Y_test.shape)
clf = svm.SVC(C=50, gamma=0.1, kernel="linear")
clf.fit(X_train,Y_train)
accuracy = clf.score(X_test,Y_test)
print(accuracy)

Y_pred = np.array([[8.319637,0.527821, 0.270976, 2.538806,0.087467,15.874922,46.467792,0.996747,3.311113,0.658149,10.422983]])
Y_pred = Y_pred.reshape(len(Y_pred),-1)
prediction = clf.predict(Y_pred)
print(prediction)
