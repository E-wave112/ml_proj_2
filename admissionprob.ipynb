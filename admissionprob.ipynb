%matplotlib inline

import timeit
start = timeit.default_timer()

#Your ops here

 
import sklearn
import seaborn as sns
import matplotlib.pyplot as plt
import numpy as np
import pandas as pd
from sklearn import preprocessing, cross_validation
from sklearn.model_selection import train_test_split
from sklearn.linear_model import LinearRegression
df = pd.read_csv("admindataset.csv")
print(df.info())
print(df.describe())
print(df.shape)
print(df.head())

#visualizing the data
plt.bar(df["University Rating"].head(10),df["TOEFL Score"].head(10), facecolor="#9999ff")
plt.show()
plt.bar(df["TOEFL Score"],df["Admissions"],facecolor="#9999ff")
plt.xlabel('scores')
plt.ylabel("chances")
plt.show()

print('liras...')
print("the university ratings didn''t have much of an effect on the TOEFL score")
print("point 2::")
print("the odds of admissions doesn''t necessary depends on the TOEFL score, although a higher score is very important")


#Using COLINEAR REGRESSION
df = df.drop(["Serial No."], axis=1)
corr = df.corr()
sns.heatmap(corr)
X = df.drop(["Admissions"], axis =1)
Y = df["Admissions"]
X = preprocessing.scale(X)
X_train, X_test,Y_train,Y_test = sklearn.cross_validation.train_test_split(X,Y,test_size=0.3)
print(X_train.shape)
print(Y_train.shape)
print(X_test.shape)
print(Y_test.shape)
lm = LinearRegression()
lm.fit(X_train, Y_train)
Y_pred = lm.predict(X_test)
accuracy = lm.score(X_test,Y_test)
print(accuracy)
mse = sklearn.metrics.mean_squared_error(Y_test, Y_pred)
print(mse)

#concluding visualization
plt.scatter(Y_test,Y_pred, marker="x")
plt.title("regression line")
plt.show()

#calculating runtime
stop = timeit.default_timer()
print('Time: ', stop - start)
